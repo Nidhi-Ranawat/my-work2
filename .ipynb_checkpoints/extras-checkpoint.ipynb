{
 "cells": [
  {
   "cell_type": "code",
   "execution_count": 1,
   "id": "28453aa3",
   "metadata": {},
   "outputs": [
    {
     "data": {
      "text/plain": [
       "False"
      ]
     },
     "execution_count": 1,
     "metadata": {},
     "output_type": "execute_result"
    }
   ],
   "source": [
    "bool(False)"
   ]
  },
  {
   "cell_type": "code",
   "execution_count": 2,
   "id": "bc03fd3e",
   "metadata": {},
   "outputs": [],
   "source": [
    "mystr = \"hjghjg jhukj\"  #since space is present false for alnum"
   ]
  },
  {
   "cell_type": "code",
   "execution_count": 3,
   "id": "66abb8c6",
   "metadata": {},
   "outputs": [
    {
     "data": {
      "text/plain": [
       "False"
      ]
     },
     "execution_count": 3,
     "metadata": {},
     "output_type": "execute_result"
    }
   ],
   "source": [
    "mystr.isalnum()   "
   ]
  },
  {
   "cell_type": "code",
   "execution_count": 4,
   "id": "3ba43c96",
   "metadata": {},
   "outputs": [
    {
     "data": {
      "text/plain": [
       "False"
      ]
     },
     "execution_count": 4,
     "metadata": {},
     "output_type": "execute_result"
    }
   ],
   "source": [
    "mystr.isalpha()"
   ]
  },
  {
   "cell_type": "code",
   "execution_count": 5,
   "id": "8e301fc5",
   "metadata": {},
   "outputs": [
    {
     "data": {
      "text/plain": [
       "False"
      ]
     },
     "execution_count": 5,
     "metadata": {},
     "output_type": "execute_result"
    }
   ],
   "source": [
    "mystr.isdigit()"
   ]
  },
  {
   "cell_type": "code",
   "execution_count": 6,
   "id": "c245ad40",
   "metadata": {},
   "outputs": [
    {
     "data": {
      "text/plain": [
       "list"
      ]
     },
     "execution_count": 6,
     "metadata": {},
     "output_type": "execute_result"
    }
   ],
   "source": [
    "type([])"
   ]
  },
  {
   "cell_type": "code",
   "execution_count": 8,
   "id": "ba6236d2",
   "metadata": {},
   "outputs": [
    {
     "data": {
      "text/plain": [
       "[]"
      ]
     },
     "execution_count": 8,
     "metadata": {},
     "output_type": "execute_result"
    }
   ],
   "source": [
    "lst = list()\n",
    "lst"
   ]
  },
  {
   "cell_type": "code",
   "execution_count": 9,
   "id": "cc9232f1",
   "metadata": {},
   "outputs": [],
   "source": [
    "idk = {1: 'dkgj'}"
   ]
  },
  {
   "cell_type": "code",
   "execution_count": 10,
   "id": "3ee4c248",
   "metadata": {},
   "outputs": [
    {
     "data": {
      "text/plain": [
       "dict"
      ]
     },
     "execution_count": 10,
     "metadata": {},
     "output_type": "execute_result"
    }
   ],
   "source": [
    "type(idk)"
   ]
  },
  {
   "cell_type": "code",
   "execution_count": 11,
   "id": "d2f0401a",
   "metadata": {},
   "outputs": [],
   "source": [
    "d1 = {'K1' : 1}\n",
    "d2 = {'K2' : 2}\n",
    "d3 = {'K3' : 3}"
   ]
  },
  {
   "cell_type": "code",
   "execution_count": 12,
   "id": "05a5d978",
   "metadata": {},
   "outputs": [],
   "source": [
    "d = {'myK1' : d1, 'myK2' : d2, 'myK3' : d3}"
   ]
  },
  {
   "cell_type": "code",
   "execution_count": 13,
   "id": "31dc5176",
   "metadata": {},
   "outputs": [
    {
     "data": {
      "text/plain": [
       "{'myK1': {'K1': 1}, 'myK2': {'K2': 2}, 'myK3': {'K3': 3}}"
      ]
     },
     "execution_count": 13,
     "metadata": {},
     "output_type": "execute_result"
    }
   ],
   "source": [
    "d"
   ]
  },
  {
   "cell_type": "code",
   "execution_count": 14,
   "id": "9db271c4",
   "metadata": {},
   "outputs": [
    {
     "data": {
      "text/plain": [
       "2"
      ]
     },
     "execution_count": 14,
     "metadata": {},
     "output_type": "execute_result"
    }
   ],
   "source": [
    "d['myK2']['K2']"
   ]
  },
  {
   "cell_type": "code",
   "execution_count": 15,
   "id": "026b3cf1",
   "metadata": {},
   "outputs": [],
   "source": [
    "import numpy as np"
   ]
  },
  {
   "cell_type": "code",
   "execution_count": 16,
   "id": "a04803d8",
   "metadata": {},
   "outputs": [
    {
     "data": {
      "text/plain": [
       "numpy.ndarray"
      ]
     },
     "execution_count": 16,
     "metadata": {},
     "output_type": "execute_result"
    }
   ],
   "source": [
    "type(np.array(1))   #array in ref type"
   ]
  },
  {
   "cell_type": "code",
   "execution_count": 17,
   "id": "c84593c5",
   "metadata": {},
   "outputs": [],
   "source": [
    "l1 = [6,4,2,5,6]\n",
    "l2 = [6,7,8,5,6]\n",
    "l3 = [11,24,32,45,56]\n",
    "a = np.array([l1, l2, l3])"
   ]
  },
  {
   "cell_type": "code",
   "execution_count": 18,
   "id": "68f7388b",
   "metadata": {},
   "outputs": [
    {
     "data": {
      "text/plain": [
       "array([[ 6,  4,  2,  5,  6,  6,  7,  8,  5,  6, 11, 24, 32, 45, 56]])"
      ]
     },
     "execution_count": 18,
     "metadata": {},
     "output_type": "execute_result"
    }
   ],
   "source": [
    "a.reshape(1,15)"
   ]
  },
  {
   "cell_type": "code",
   "execution_count": 19,
   "id": "16aae3a7",
   "metadata": {},
   "outputs": [
    {
     "data": {
      "text/plain": [
       "array([[ 6,  4,  2,  5,  6],\n",
       "       [ 6,  7,  8,  5,  6],\n",
       "       [11, 24, 32, 45, 56]])"
      ]
     },
     "execution_count": 19,
     "metadata": {},
     "output_type": "execute_result"
    }
   ],
   "source": [
    "a"
   ]
  },
  {
   "cell_type": "code",
   "execution_count": 20,
   "id": "8d2d5b23",
   "metadata": {},
   "outputs": [
    {
     "data": {
      "text/plain": [
       "2"
      ]
     },
     "execution_count": 20,
     "metadata": {},
     "output_type": "execute_result"
    }
   ],
   "source": [
    "a.ndim"
   ]
  },
  {
   "cell_type": "code",
   "execution_count": 21,
   "id": "c6c9c482",
   "metadata": {},
   "outputs": [
    {
     "data": {
      "text/plain": [
       "array([[False, False, False, False, False],\n",
       "       [False, False, False, False, False],\n",
       "       [False,  True,  True,  True,  True]])"
      ]
     },
     "execution_count": 21,
     "metadata": {},
     "output_type": "execute_result"
    }
   ],
   "source": [
    "a>20"
   ]
  },
  {
   "cell_type": "code",
   "execution_count": 26,
   "id": "9bd6ed81",
   "metadata": {},
   "outputs": [
    {
     "data": {
      "text/plain": [
       "array([ 6,  4,  2,  5,  6,  6,  7,  8,  5,  6, 11])"
      ]
     },
     "execution_count": 26,
     "metadata": {},
     "output_type": "execute_result"
    }
   ],
   "source": [
    "a[a<20]"
   ]
  },
  {
   "cell_type": "code",
   "execution_count": 27,
   "id": "9fca7b55",
   "metadata": {},
   "outputs": [
    {
     "data": {
      "text/plain": [
       "array([ 2,  3,  4,  5,  6,  7,  8,  9, 10, 11, 12, 13, 14])"
      ]
     },
     "execution_count": 27,
     "metadata": {},
     "output_type": "execute_result"
    }
   ],
   "source": [
    "arr = np.arange(2,15,1)    #step\n",
    "arr"
   ]
  },
  {
   "cell_type": "code",
   "execution_count": 32,
   "id": "26d01370",
   "metadata": {},
   "outputs": [
    {
     "data": {
      "text/plain": [
       "array([10.,  9.,  8.,  7.,  6.,  5.,  4.,  3.,  2.,  1.])"
      ]
     },
     "execution_count": 32,
     "metadata": {},
     "output_type": "execute_result"
    }
   ],
   "source": [
    "arr = np.linspace(10,1,10) #values\n",
    "arr"
   ]
  },
  {
   "cell_type": "code",
   "execution_count": 33,
   "id": "6da52693",
   "metadata": {},
   "outputs": [
    {
     "data": {
      "text/plain": [
       "array([ 10.,   9.,   8.,   7.,   6., 100., 100., 100., 100., 100.])"
      ]
     },
     "execution_count": 33,
     "metadata": {},
     "output_type": "execute_result"
    }
   ],
   "source": [
    "arr[5:] = 100\n",
    "arr"
   ]
  },
  {
   "cell_type": "code",
   "execution_count": 34,
   "id": "bbea5738",
   "metadata": {},
   "outputs": [
    {
     "data": {
      "text/plain": [
       "array([False, False, False, False, False,  True,  True,  True,  True,\n",
       "        True])"
      ]
     },
     "execution_count": 34,
     "metadata": {},
     "output_type": "execute_result"
    }
   ],
   "source": [
    "arr==100"
   ]
  },
  {
   "cell_type": "code",
   "execution_count": 35,
   "id": "1b5efa57",
   "metadata": {},
   "outputs": [
    {
     "data": {
      "text/plain": [
       "array([ 1000.,   900.,   800.,   700.,   600., 10000., 10000., 10000.,\n",
       "       10000., 10000.])"
      ]
     },
     "execution_count": 35,
     "metadata": {},
     "output_type": "execute_result"
    }
   ],
   "source": [
    "x = arr*100\n",
    "x"
   ]
  },
  {
   "cell_type": "code",
   "execution_count": 157,
   "id": "ec0dede2",
   "metadata": {},
   "outputs": [
    {
     "data": {
      "text/plain": [
       "array([ True,  True,  True,  True,  True, False, False, False, False,\n",
       "       False])"
      ]
     },
     "execution_count": 157,
     "metadata": {},
     "output_type": "execute_result"
    }
   ],
   "source": [
    "arr<100"
   ]
  },
  {
   "cell_type": "code",
   "execution_count": 159,
   "id": "375b97fe",
   "metadata": {},
   "outputs": [
    {
     "data": {
      "text/plain": [
       "array([], shape=(0, 10), dtype=float64)"
      ]
     },
     "execution_count": 159,
     "metadata": {},
     "output_type": "execute_result"
    }
   ],
   "source": [
    "arr[False]"
   ]
  },
  {
   "cell_type": "code",
   "execution_count": 53,
   "id": "6b659380",
   "metadata": {},
   "outputs": [
    {
     "data": {
      "text/plain": [
       "array([10.,  9.,  8.,  7.,  6.])"
      ]
     },
     "execution_count": 53,
     "metadata": {},
     "output_type": "execute_result"
    }
   ],
   "source": [
    "arr[arr<100]     #elements less than 100"
   ]
  },
  {
   "cell_type": "code",
   "execution_count": 60,
   "id": "20102147",
   "metadata": {},
   "outputs": [
    {
     "data": {
      "text/plain": [
       "array([[[1.80555733, 0.76270506],\n",
       "        [7.2769271 , 5.95701939],\n",
       "        [7.65350707, 5.56215083]],\n",
       "\n",
       "       [[7.49417786, 9.5101755 ],\n",
       "        [9.58346674, 0.75412894],\n",
       "        [5.63010382, 3.86017293]],\n",
       "\n",
       "       [[2.43987724, 4.18982945],\n",
       "        [9.5342618 , 7.71586587],\n",
       "        [0.6517165 , 6.2583325 ]]])"
      ]
     },
     "execution_count": 60,
     "metadata": {},
     "output_type": "execute_result"
    }
   ],
   "source": [
    "(np.random.rand(3,3,2)*10)"
   ]
  },
  {
   "cell_type": "code",
   "execution_count": 62,
   "id": "7d93eee5",
   "metadata": {},
   "outputs": [
    {
     "data": {
      "text/plain": [
       "array([['1', '1', '1', '1', '1'],\n",
       "       ['1', '1', '1', '1', '1'],\n",
       "       ['1', '1', '1', '1', '1']], dtype='<U1')"
      ]
     },
     "execution_count": 62,
     "metadata": {},
     "output_type": "execute_result"
    }
   ],
   "source": [
    "np.ones((3,5), dtype=str)"
   ]
  },
  {
   "cell_type": "code",
   "execution_count": 78,
   "id": "ed629b60",
   "metadata": {},
   "outputs": [
    {
     "data": {
      "text/plain": [
       "array([[[[ 1, 19],\n",
       "         [18, 32]],\n",
       "\n",
       "        [[14, 31],\n",
       "         [ 5, 30]],\n",
       "\n",
       "        [[20, 11],\n",
       "         [19,  1]],\n",
       "\n",
       "        [[ 8,  6],\n",
       "         [25, 24]]],\n",
       "\n",
       "\n",
       "       [[[13, 37],\n",
       "         [23, 20]],\n",
       "\n",
       "        [[26,  1],\n",
       "         [21, 14]],\n",
       "\n",
       "        [[22, 31],\n",
       "         [24, 37]],\n",
       "\n",
       "        [[29, 36],\n",
       "         [14, 19]]]])"
      ]
     },
     "execution_count": 78,
     "metadata": {},
     "output_type": "execute_result"
    }
   ],
   "source": [
    "np.random.randint(1,40,32).reshape(2,4,2,2)"
   ]
  },
  {
   "cell_type": "code",
   "execution_count": 79,
   "id": "ae3867c4",
   "metadata": {},
   "outputs": [
    {
     "data": {
      "text/plain": [
       "array([[[[24],\n",
       "         [14]],\n",
       "\n",
       "        [[20],\n",
       "         [27]],\n",
       "\n",
       "        [[21],\n",
       "         [11]],\n",
       "\n",
       "        [[20],\n",
       "         [10]]],\n",
       "\n",
       "\n",
       "       [[[ 6],\n",
       "         [ 8]],\n",
       "\n",
       "        [[14],\n",
       "         [17]],\n",
       "\n",
       "        [[34],\n",
       "         [ 7]],\n",
       "\n",
       "        [[31],\n",
       "         [11]]]])"
      ]
     },
     "execution_count": 79,
     "metadata": {},
     "output_type": "execute_result"
    }
   ],
   "source": [
    "np.random.randint(1,40,16).reshape(2,4,2,1)"
   ]
  },
  {
   "cell_type": "code",
   "execution_count": 80,
   "id": "f7dff1ff",
   "metadata": {},
   "outputs": [],
   "source": [
    "import pandas as pd"
   ]
  },
  {
   "cell_type": "code",
   "execution_count": 99,
   "id": "3d8e3a31",
   "metadata": {},
   "outputs": [
    {
     "data": {
      "text/html": [
       "<div>\n",
       "<style scoped>\n",
       "    .dataframe tbody tr th:only-of-type {\n",
       "        vertical-align: middle;\n",
       "    }\n",
       "\n",
       "    .dataframe tbody tr th {\n",
       "        vertical-align: top;\n",
       "    }\n",
       "\n",
       "    .dataframe thead th {\n",
       "        text-align: right;\n",
       "    }\n",
       "</style>\n",
       "<table border=\"1\" class=\"dataframe\">\n",
       "  <thead>\n",
       "    <tr style=\"text-align: right;\">\n",
       "      <th></th>\n",
       "      <th>c1</th>\n",
       "      <th>c2</th>\n",
       "      <th>c3</th>\n",
       "      <th>c4</th>\n",
       "      <th>c5</th>\n",
       "    </tr>\n",
       "  </thead>\n",
       "  <tbody>\n",
       "    <tr>\n",
       "      <th>r1</th>\n",
       "      <td>1</td>\n",
       "      <td>2</td>\n",
       "      <td>3</td>\n",
       "      <td>4</td>\n",
       "      <td>5</td>\n",
       "    </tr>\n",
       "    <tr>\n",
       "      <th>r2</th>\n",
       "      <td>6</td>\n",
       "      <td>7</td>\n",
       "      <td>8</td>\n",
       "      <td>9</td>\n",
       "      <td>10</td>\n",
       "    </tr>\n",
       "  </tbody>\n",
       "</table>\n",
       "</div>"
      ],
      "text/plain": [
       "    c1  c2  c3  c4  c5\n",
       "r1   1   2   3   4   5\n",
       "r2   6   7   8   9  10"
      ]
     },
     "execution_count": 99,
     "metadata": {},
     "output_type": "execute_result"
    }
   ],
   "source": [
    "df = pd.DataFrame(np.arange(1,11,1).reshape(2,5),index=['r1', 'r2'], columns=['c1','c2','c3','c4','c5'])\n",
    "df"
   ]
  },
  {
   "cell_type": "code",
   "execution_count": 100,
   "id": "3207d824",
   "metadata": {},
   "outputs": [],
   "source": [
    "# df.to_csv('')"
   ]
  },
  {
   "cell_type": "code",
   "execution_count": 91,
   "id": "847fa70e",
   "metadata": {},
   "outputs": [
    {
     "data": {
      "text/plain": [
       "array([ 1,  2,  3,  4,  5,  6,  7,  8,  9, 10, 11])"
      ]
     },
     "execution_count": 91,
     "metadata": {},
     "output_type": "execute_result"
    }
   ],
   "source": [
    "np.arange(1,12,1)"
   ]
  },
  {
   "cell_type": "code",
   "execution_count": 88,
   "id": "dea500a4",
   "metadata": {},
   "outputs": [
    {
     "data": {
      "text/plain": [
       "array([ 1.,  2.,  3.,  4.,  5.,  6.,  7.,  8.,  9., 10.])"
      ]
     },
     "execution_count": 88,
     "metadata": {},
     "output_type": "execute_result"
    }
   ],
   "source": [
    "np.linspace(1,10,10)"
   ]
  },
  {
   "cell_type": "code",
   "execution_count": 101,
   "id": "755c32ca",
   "metadata": {},
   "outputs": [
    {
     "data": {
      "text/html": [
       "<div>\n",
       "<style scoped>\n",
       "    .dataframe tbody tr th:only-of-type {\n",
       "        vertical-align: middle;\n",
       "    }\n",
       "\n",
       "    .dataframe tbody tr th {\n",
       "        vertical-align: top;\n",
       "    }\n",
       "\n",
       "    .dataframe thead th {\n",
       "        text-align: right;\n",
       "    }\n",
       "</style>\n",
       "<table border=\"1\" class=\"dataframe\">\n",
       "  <thead>\n",
       "    <tr style=\"text-align: right;\">\n",
       "      <th></th>\n",
       "      <th>c1</th>\n",
       "      <th>c2</th>\n",
       "      <th>c3</th>\n",
       "      <th>c4</th>\n",
       "      <th>c5</th>\n",
       "    </tr>\n",
       "  </thead>\n",
       "  <tbody>\n",
       "    <tr>\n",
       "      <th>r1</th>\n",
       "      <td>1</td>\n",
       "      <td>2</td>\n",
       "      <td>3</td>\n",
       "      <td>4</td>\n",
       "      <td>5</td>\n",
       "    </tr>\n",
       "    <tr>\n",
       "      <th>r2</th>\n",
       "      <td>6</td>\n",
       "      <td>7</td>\n",
       "      <td>8</td>\n",
       "      <td>9</td>\n",
       "      <td>10</td>\n",
       "    </tr>\n",
       "  </tbody>\n",
       "</table>\n",
       "</div>"
      ],
      "text/plain": [
       "    c1  c2  c3  c4  c5\n",
       "r1   1   2   3   4   5\n",
       "r2   6   7   8   9  10"
      ]
     },
     "execution_count": 101,
     "metadata": {},
     "output_type": "execute_result"
    }
   ],
   "source": [
    "df"
   ]
  },
  {
   "cell_type": "code",
   "execution_count": 109,
   "id": "3e2ef690",
   "metadata": {},
   "outputs": [
    {
     "data": {
      "text/plain": [
       "pandas.core.series.Series"
      ]
     },
     "execution_count": 109,
     "metadata": {},
     "output_type": "execute_result"
    }
   ],
   "source": [
    "type(df.loc['r1'])"
   ]
  },
  {
   "cell_type": "code",
   "execution_count": 121,
   "id": "7eb09a4f",
   "metadata": {},
   "outputs": [
    {
     "data": {
      "text/plain": [
       "c2    2\n",
       "c4    4\n",
       "Name: r1, dtype: int32"
      ]
     },
     "execution_count": 121,
     "metadata": {},
     "output_type": "execute_result"
    }
   ],
   "source": [
    "df.loc['r1',['c2','c4']]"
   ]
  },
  {
   "cell_type": "code",
   "execution_count": 123,
   "id": "7ac28060",
   "metadata": {},
   "outputs": [
    {
     "data": {
      "text/plain": [
       "(2, 5)"
      ]
     },
     "execution_count": 123,
     "metadata": {},
     "output_type": "execute_result"
    }
   ],
   "source": [
    "# converting dfs to arrays -> removing the row & col indices\n",
    "df.values.shape"
   ]
  },
  {
   "cell_type": "code",
   "execution_count": 131,
   "id": "31a731d9",
   "metadata": {},
   "outputs": [
    {
     "data": {
      "text/plain": [
       "c1     7\n",
       "c2     9\n",
       "c3    11\n",
       "c4    13\n",
       "c5    15\n",
       "dtype: int64"
      ]
     },
     "execution_count": 131,
     "metadata": {},
     "output_type": "execute_result"
    }
   ],
   "source": [
    "df.sum(axis=0)"
   ]
  },
  {
   "cell_type": "code",
   "execution_count": 133,
   "id": "e99cf1d5",
   "metadata": {},
   "outputs": [
    {
     "data": {
      "text/plain": [
       "1    1\n",
       "6    1\n",
       "Name: c1, dtype: int64"
      ]
     },
     "execution_count": 133,
     "metadata": {},
     "output_type": "execute_result"
    }
   ],
   "source": [
    "df['c1'].value_counts()"
   ]
  },
  {
   "cell_type": "code",
   "execution_count": 140,
   "id": "d64907d5",
   "metadata": {},
   "outputs": [
    {
     "data": {
      "text/plain": [
       "pandas.core.frame.DataFrame"
      ]
     },
     "execution_count": 140,
     "metadata": {},
     "output_type": "execute_result"
    }
   ],
   "source": [
    "type(df[['c1','c4']])"
   ]
  },
  {
   "cell_type": "code",
   "execution_count": 149,
   "id": "e1312a64",
   "metadata": {},
   "outputs": [
    {
     "data": {
      "text/html": [
       "<div>\n",
       "<style scoped>\n",
       "    .dataframe tbody tr th:only-of-type {\n",
       "        vertical-align: middle;\n",
       "    }\n",
       "\n",
       "    .dataframe tbody tr th {\n",
       "        vertical-align: top;\n",
       "    }\n",
       "\n",
       "    .dataframe thead th {\n",
       "        text-align: right;\n",
       "    }\n",
       "</style>\n",
       "<table border=\"1\" class=\"dataframe\">\n",
       "  <thead>\n",
       "    <tr style=\"text-align: right;\">\n",
       "      <th></th>\n",
       "      <th>rowID</th>\n",
       "      <th>subject-code</th>\n",
       "      <th>subject-name</th>\n",
       "      <th>score</th>\n",
       "    </tr>\n",
       "  </thead>\n",
       "  <tbody>\n",
       "    <tr>\n",
       "      <th>0</th>\n",
       "      <td>a</td>\n",
       "      <td>505</td>\n",
       "      <td>Data-science</td>\n",
       "      <td>9.5</td>\n",
       "    </tr>\n",
       "    <tr>\n",
       "      <th>1</th>\n",
       "      <td>b</td>\n",
       "      <td>101</td>\n",
       "      <td>Python</td>\n",
       "      <td>10.0</td>\n",
       "    </tr>\n",
       "    <tr>\n",
       "      <th>2</th>\n",
       "      <td>c</td>\n",
       "      <td>222</td>\n",
       "      <td>Mathematics</td>\n",
       "      <td>9.0</td>\n",
       "    </tr>\n",
       "    <tr>\n",
       "      <th>3</th>\n",
       "      <td>d</td>\n",
       "      <td>301</td>\n",
       "      <td>PHP</td>\n",
       "      <td>7.0</td>\n",
       "    </tr>\n",
       "    <tr>\n",
       "      <th>4</th>\n",
       "      <td>e</td>\n",
       "      <td>202</td>\n",
       "      <td>Descriptive analytics</td>\n",
       "      <td>9.0</td>\n",
       "    </tr>\n",
       "    <tr>\n",
       "      <th>5</th>\n",
       "      <td>f</td>\n",
       "      <td>505</td>\n",
       "      <td>Business Intelligence</td>\n",
       "      <td>10.0</td>\n",
       "    </tr>\n",
       "  </tbody>\n",
       "</table>\n",
       "</div>"
      ],
      "text/plain": [
       "  rowID  subject-code           subject-name  score\n",
       "0     a           505           Data-science    9.5\n",
       "1     b           101                 Python   10.0\n",
       "2     c           222            Mathematics    9.0\n",
       "3     d           301                    PHP    7.0\n",
       "4     e           202  Descriptive analytics    9.0\n",
       "5     f           505  Business Intelligence   10.0"
      ]
     },
     "execution_count": 149,
     "metadata": {},
     "output_type": "execute_result"
    }
   ],
   "source": [
    "theList = [['a', 505, 'Data-science', 9.5],\n",
    " ['b', 101, 'Python', 10],\n",
    " ['c', 222, 'Mathematics', 9],\n",
    " ['d', 301, 'PHP', 7],\n",
    " ['e', 202, 'Descriptive analytics', 9],\n",
    " ['f',505, 'Business Intelligence', 10]]\n",
    "df1 = pd.DataFrame(theList, columns=('rowID','subject-code', 'subject-name','score'))\n",
    "df1"
   ]
  },
  {
   "cell_type": "code",
   "execution_count": 148,
   "id": "d2f4850d",
   "metadata": {},
   "outputs": [
    {
     "data": {
      "text/plain": [
       "array([ 9.5, 10. ,  9. ,  7. ])"
      ]
     },
     "execution_count": 148,
     "metadata": {},
     "output_type": "execute_result"
    }
   ],
   "source": [
    "df1['score'].unique()"
   ]
  },
  {
   "cell_type": "code",
   "execution_count": 161,
   "id": "5a5ae491",
   "metadata": {},
   "outputs": [
    {
     "data": {
      "text/html": [
       "<div>\n",
       "<style scoped>\n",
       "    .dataframe tbody tr th:only-of-type {\n",
       "        vertical-align: middle;\n",
       "    }\n",
       "\n",
       "    .dataframe tbody tr th {\n",
       "        vertical-align: top;\n",
       "    }\n",
       "\n",
       "    .dataframe thead th {\n",
       "        text-align: right;\n",
       "    }\n",
       "</style>\n",
       "<table border=\"1\" class=\"dataframe\">\n",
       "  <thead>\n",
       "    <tr style=\"text-align: right;\">\n",
       "      <th></th>\n",
       "      <th>rowID</th>\n",
       "      <th>subject-code</th>\n",
       "      <th>subject-name</th>\n",
       "      <th>score</th>\n",
       "    </tr>\n",
       "  </thead>\n",
       "  <tbody>\n",
       "    <tr>\n",
       "      <th>0</th>\n",
       "      <td>a</td>\n",
       "      <td>505</td>\n",
       "      <td>Data-science</td>\n",
       "      <td>9.5</td>\n",
       "    </tr>\n",
       "    <tr>\n",
       "      <th>1</th>\n",
       "      <td>b</td>\n",
       "      <td>101</td>\n",
       "      <td>Python</td>\n",
       "      <td>10.0</td>\n",
       "    </tr>\n",
       "    <tr>\n",
       "      <th>5</th>\n",
       "      <td>f</td>\n",
       "      <td>505</td>\n",
       "      <td>Business Intelligence</td>\n",
       "      <td>10.0</td>\n",
       "    </tr>\n",
       "  </tbody>\n",
       "</table>\n",
       "</div>"
      ],
      "text/plain": [
       "  rowID  subject-code           subject-name  score\n",
       "0     a           505           Data-science    9.5\n",
       "1     b           101                 Python   10.0\n",
       "5     f           505  Business Intelligence   10.0"
      ]
     },
     "execution_count": 161,
     "metadata": {},
     "output_type": "execute_result"
    }
   ],
   "source": [
    "df1[df1['score']>9]"
   ]
  },
  {
   "cell_type": "code",
   "execution_count": 162,
   "id": "6a244452",
   "metadata": {},
   "outputs": [
    {
     "data": {
      "text/plain": [
       "10.0"
      ]
     },
     "execution_count": 162,
     "metadata": {},
     "output_type": "execute_result"
    }
   ],
   "source": [
    "df1['score'][1]"
   ]
  },
  {
   "cell_type": "code",
   "execution_count": 163,
   "id": "fd896cd1",
   "metadata": {},
   "outputs": [],
   "source": [
    "# df=pd.read_csv(StringIO(data), dtype{'b':int, 'c':float, 'a':object})\n"
   ]
  },
  {
   "cell_type": "code",
   "execution_count": 164,
   "id": "01dd171e",
   "metadata": {},
   "outputs": [],
   "source": [
    "import matplotlib.pyplot as plot\n",
    "%matplotlib inline"
   ]
  },
  {
   "cell_type": "code",
   "execution_count": null,
   "id": "e1b6b99d",
   "metadata": {},
   "outputs": [],
   "source": []
  }
 ],
 "metadata": {
  "kernelspec": {
   "display_name": "Python 3 (ipykernel)",
   "language": "python",
   "name": "python3"
  },
  "language_info": {
   "codemirror_mode": {
    "name": "ipython",
    "version": 3
   },
   "file_extension": ".py",
   "mimetype": "text/x-python",
   "name": "python",
   "nbconvert_exporter": "python",
   "pygments_lexer": "ipython3",
   "version": "3.10.2"
  }
 },
 "nbformat": 4,
 "nbformat_minor": 5
}
